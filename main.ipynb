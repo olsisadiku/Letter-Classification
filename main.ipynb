{
 "cells": [
  {
   "cell_type": "code",
   "execution_count": 1,
   "metadata": {},
   "outputs": [],
   "source": [
    "import numpy as np \n",
    "import tensorflow as tf\n",
    "import pandas as pd\n",
    "import PIL\n",
    "import matplotlib.pyplot as plt\n",
    "from PIL import Image"
   ]
  },
  {
   "cell_type": "code",
   "execution_count": 2,
   "metadata": {},
   "outputs": [],
   "source": [
    "from tensorflow.keras.preprocessing.image import ImageDataGenerator, load_img, img_to_array\n",
    "TRAIN_DIR = 'train_v2/train/'\n",
    "TEST_DIR = 'test_v2/test/'\n"
   ]
  },
  {
   "cell_type": "code",
   "execution_count": 3,
   "metadata": {},
   "outputs": [
    {
     "data": {
      "text/plain": [
       "(41370, 1)"
      ]
     },
     "execution_count": 3,
     "metadata": {},
     "output_type": "execute_result"
    }
   ],
   "source": [
    "test_csv = pd.read_csv('written_name_test_v2.csv')\n",
    "test_csv['IDENTITY'] = test_csv['IDENTITY'].astype('category').cat.codes\n",
    "y_train = test_csv.loc[:,'IDENTITY']\n",
    "y_train = np.asarray(y_train).reshape((len(y_train),1))\n",
    "test_csv.head()\n",
    "y_train.shape"
   ]
  },
  {
   "cell_type": "code",
   "execution_count": 4,
   "metadata": {},
   "outputs": [],
   "source": [
    "from tensorflow.keras.preprocessing import image_dataset_from_directory\n",
    "import os\n",
    "images = []\n",
    "directory = r'{}'.format(TEST_DIR)\n",
    "for filename in os.listdir(directory):\n",
    "    image = Image.open('test_v2/test/' + filename)\n",
    "    image_r = image.resize((32,32))\n",
    "    arr = np.array(image_r)\n",
    "    arr = arr / 255.\n",
    "    images.append(arr)"
   ]
  },
  {
   "cell_type": "code",
   "execution_count": 5,
   "metadata": {},
   "outputs": [],
   "source": [
    "images = np.asarray(images).astype(np.float32)"
   ]
  },
  {
   "cell_type": "code",
   "execution_count": 6,
   "metadata": {},
   "outputs": [
    {
     "data": {
      "text/plain": [
       "(41370, 32, 32, 3)"
      ]
     },
     "execution_count": 6,
     "metadata": {},
     "output_type": "execute_result"
    }
   ],
   "source": [
    "images.shape"
   ]
  },
  {
   "cell_type": "code",
   "execution_count": 7,
   "metadata": {},
   "outputs": [
    {
     "data": {
      "text/plain": [
       "(41370, 20279)"
      ]
     },
     "execution_count": 7,
     "metadata": {},
     "output_type": "execute_result"
    }
   ],
   "source": [
    "from tensorflow.keras.utils import to_categorical \n",
    "train_y_one = to_categorical(y_train)\n",
    "train_y_one.shape"
   ]
  },
  {
   "cell_type": "markdown",
   "metadata": {},
   "source": [
    "# Neural Network creation"
   ]
  },
  {
   "cell_type": "code",
   "execution_count": 8,
   "metadata": {},
   "outputs": [],
   "source": [
    "from tensorflow.keras.models import Sequential\n",
    "from tensorflow.keras.layers import BatchNormalization\n",
    "from tensorflow.keras import layers\n",
    "from tensorflow import keras\n",
    "from tensorflow.keras import layers\n",
    "cnn = keras.Sequential(\n",
    "[\n",
    "    layers.Conv2D(filters = 32, kernel_size = (3,3), activation = 'relu'),\n",
    "    layers.MaxPooling2D(pool_size = (2,2), strides = 2),\n",
    "    layers.Conv2D(32,(3,3), activation = 'relu'),\n",
    "    layers.MaxPooling2D(pool_size = (2,2), strides = 2),\n",
    "    layers.Flatten(),\n",
    "    layers.Dense(32, activation = 'relu'),\n",
    "    BatchNormalization(),\n",
    "    layers.Dense(32, activation = 'relu'),\n",
    "    BatchNormalization(),\n",
    "    layers.Dense(20279, activation = 'softmax'),\n",
    "    \n",
    "]\n",
    ")\n",
    "\n"
   ]
  },
  {
   "cell_type": "code",
   "execution_count": 9,
   "metadata": {},
   "outputs": [],
   "source": [
    "cnn.compile(optimizer='adam',loss='categorical_crossentropy',\n",
    "              metrics=['accuracy'])\n"
   ]
  },
  {
   "cell_type": "code",
   "execution_count": null,
   "metadata": {
    "pycharm": {
     "name": "#%%\n"
    }
   },
   "outputs": [
    {
     "name": "stdout",
     "output_type": "stream",
     "text": [
      "Epoch 1/10\n",
      "647/647 [==============================] - 29s 45ms/step - loss: 9.8418 - accuracy: 0.0024\n",
      "Epoch 2/10\n",
      "647/647 [==============================] - 30s 46ms/step - loss: 9.3458 - accuracy: 0.0033\n",
      "Epoch 3/10\n",
      "647/647 [==============================] - 30s 46ms/step - loss: 8.8945 - accuracy: 0.0038\n",
      "Epoch 4/10\n",
      "647/647 [==============================] - 30s 46ms/step - loss: 8.5127 - accuracy: 0.0049\n",
      "Epoch 5/10\n",
      "647/647 [==============================] - 30s 47ms/step - loss: 8.2476 - accuracy: 0.0051\n",
      "Epoch 6/10\n",
      "647/647 [==============================] - 30s 46ms/step - loss: 8.0565 - accuracy: 0.0049\n",
      "Epoch 7/10\n",
      "647/647 [==============================] - 29s 45ms/step - loss: 7.8916 - accuracy: 0.0048\n",
      "Epoch 8/10\n",
      "213/647 [========>.....................] - ETA: 17s - loss: 7.5535 - accuracy: 0.0055"
     ]
    }
   ],
   "source": [
    "cnn.fit(images, train_y_one, batch_size=64, epochs= 10)"
   ]
  },
  {
   "cell_type": "code",
   "execution_count": null,
   "metadata": {
    "pycharm": {
     "name": "#%%\n"
    }
   },
   "outputs": [],
   "source": []
  },
  {
   "cell_type": "code",
   "execution_count": null,
   "metadata": {
    "pycharm": {
     "name": "#%%\n"
    }
   },
   "outputs": [],
   "source": []
  },
  {
   "cell_type": "code",
   "execution_count": null,
   "metadata": {},
   "outputs": [],
   "source": []
  },
  {
   "cell_type": "code",
   "execution_count": null,
   "metadata": {},
   "outputs": [],
   "source": []
  },
  {
   "cell_type": "code",
   "execution_count": null,
   "metadata": {},
   "outputs": [],
   "source": []
  },
  {
   "cell_type": "code",
   "execution_count": null,
   "metadata": {},
   "outputs": [],
   "source": []
  },
  {
   "cell_type": "code",
   "execution_count": null,
   "metadata": {},
   "outputs": [],
   "source": []
  }
 ],
 "metadata": {
  "kernelspec": {
   "display_name": "Python 3",
   "language": "python",
   "name": "python3"
  },
  "language_info": {
   "codemirror_mode": {
    "name": "ipython",
    "version": 3
   },
   "file_extension": ".py",
   "mimetype": "text/x-python",
   "name": "python",
   "nbconvert_exporter": "python",
   "pygments_lexer": "ipython3",
   "version": "3.8.5"
  }
 },
 "nbformat": 4,
 "nbformat_minor": 1
}